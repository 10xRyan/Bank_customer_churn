{
 "cells": [
  {
   "cell_type": "code",
   "execution_count": null,
   "id": "d0e3c51f",
   "metadata": {},
   "outputs": [],
   "source": [
    "%load_ext autoreload\n",
    "%autoreload 2"
   ]
  },
  {
   "cell_type": "code",
   "execution_count": null,
   "id": "926e7383",
   "metadata": {},
   "outputs": [],
   "source": [
    "import numpy as np\n",
    "import matplotlib.pyplot as plt\n",
    "np.random.seed(0)"
   ]
  },
  {
   "cell_type": "code",
   "execution_count": null,
   "id": "9651f3da",
   "metadata": {},
   "outputs": [],
   "source": [
    "import os\n",
    "\n",
    "img_folder = 'imgs'\n",
    "if not os.path.exists(img_folder):\n",
    "    os.makedirs(img_folder)"
   ]
  },
  {
   "cell_type": "markdown",
   "id": "03c0b3c3",
   "metadata": {},
   "source": [
    "## Question: SVM Coding"
   ]
  },
  {
   "cell_type": "markdown",
   "id": "78349baf",
   "metadata": {},
   "source": [
    "### preamble:\n",
    "first load the separable dataset of 200 instances of 2D-features (with offset). </font>"
   ]
  },
  {
   "cell_type": "code",
   "execution_count": null,
   "id": "76f4b5ad",
   "metadata": {},
   "outputs": [],
   "source": [
    "# load the sparable samples\n",
    "data_q2_separable = np.load('datasets/q2_separable.npz')\n",
    "separable_x2 = data_q2_separable['x']\n",
    "separable_y2 = data_q2_separable['y']\n",
    "\n",
    "# visualize the datapoints\n",
    "fig, ax = plt.subplots(1)\n",
    "plot_samples(ax, separable_x2, separable_y2, 'separable samples (offset)', legend=True)"
   ]
  },
  {
   "cell_type": "markdown",
   "id": "12c2e436",
   "metadata": {},
   "source": [
    "### Q2(a) Primal SVM\n",
    "<font size=\"3\"> In this section, please complete the hard SVM primal problem solver 'solve_SVM_primal' (TODO marked as 'Q2(a)' in q2.py). For hard SVM, the default value of the argument 'regularization' is None. After you have completed the task, run the block below to check the decision boundary obtained. </font>"
   ]
  },
  {
   "cell_type": "code",
   "execution_count": null,
   "id": "68ee8054",
   "metadata": {},
   "outputs": [],
   "source": [
    "from q2 import solve_SVM_primal\n",
    "\n",
    "w, b = solve_SVM_primal(separable_x2, separable_y2)\n",
    "fig, ax = plt.subplots(1)\n",
    "plot_samples(ax, separable_x2, separable_y2, 'separable samples (offset)')\n",
    "plot_line(ax, 'green', w, bias=b)\n",
    "plt.savefig(os.path.join(img_folder, 'Q2_a.png'))"
   ]
  },
  {
   "cell_type": "markdown",
   "id": "170f33d2",
   "metadata": {},
   "source": [
    "### Q2(b) Support Vectors\n",
    "<font size=\"3\"> To visualize the support vector, finish implementing the method 'get\\_support\\_vector'. Note that to deal with numerical errors, two numbers are considered equal when their difference is within $\\epsilon$. Run the block of plotting to verify your implementation.</font>"
   ]
  },
  {
   "cell_type": "code",
   "execution_count": null,
   "id": "cd7fb7d7",
   "metadata": {
    "scrolled": false
   },
   "outputs": [],
   "source": [
    "from q2 import get_support_vectors\n",
    "\n",
    "positive_vectors, positive_boundary, negative_vectors, negative_boundary = get_support_vectors(\n",
    "    separable_x2, separable_y2, w, b)\n",
    "fig, ax = plt.subplots(1)\n",
    "plot_samples(ax, separable_x2, separable_y2, 'check support vectors')\n",
    "plot_line(ax, 'green', w, bias=b)\n",
    "plot_line(ax, 'pink', positive_boundary[0], bias=positive_boundary[1])\n",
    "plot_line(ax, 'yellow', negative_boundary[0], bias=negative_boundary[1])\n",
    "ax.scatter(positive_vectors[:, 0], positive_vectors[:, 1], s=80, facecolors='none', edgecolors='pink')\n",
    "ax.scatter(negative_vectors[:, 0], negative_vectors[:, 1], s=80, facecolors='none', edgecolors='y')\n",
    "plt.savefig(os.path.join(img_folder, 'Q2_b.png'))"
   ]
  },
  {
   "cell_type": "code",
   "execution_count": null,
   "id": "0c804a69",
   "metadata": {
    "scrolled": true
   },
   "outputs": [],
   "source": [
    "# load the nonseparable samples\n",
    "data_q2_nonseparable = np.load('datasets/q2_non_separable.npz')\n",
    "nonseparable_x2 = data_q2_nonseparable['x']\n",
    "nonseparable_y2 = data_q2_nonseparable['y']\n",
    "\n",
    "# visualize the datapoints\n",
    "fig, ax = plt.subplots(1)\n",
    "plot_samples(ax, nonseparable_x2, nonseparable_y2, 'non-separable samples (offset)', legend=True)"
   ]
  },
  {
   "cell_type": "markdown",
   "id": "0dfd1df4",
   "metadata": {},
   "source": [
    "<font size=\"3\"> In this section you need to implement the soft SVM with not-null regularization in the method 'solve\\_SVM\\_primal' in 'q2.py'. After you've completed the code, run the experiment on different regularization.</font>"
   ]
  },
  {
   "cell_type": "code",
   "execution_count": null,
   "id": "df0b18b3",
   "metadata": {
    "scrolled": true
   },
   "outputs": [],
   "source": [
    "# now test the results with different regularizations\n",
    "regularozations = [0.1, 0.5, 5]\n",
    "fig, axs = plt.subplots(1, len(regularozations), figsize=(len(regularozations)*4, 3))\n",
    "for ax, C in zip(axs, regularozations):\n",
    "    # compute the result\n",
    "    w, b = solve_SVM_primal(nonseparable_x2, nonseparable_y2, regularization=C)\n",
    "    plot_samples(ax, nonseparable_x2, nonseparable_y2, f'regularization={C}')\n",
    "    plot_line(ax, 'green', w, bias=b)\n",
    "    # mark support vectors\n",
    "    positive_vectors, positive_boundary, negative_vectors, negative_boundary = get_support_vectors(\n",
    "        nonseparable_x2, nonseparable_y2, w, b)\n",
    "    plot_line(ax, 'pink', positive_boundary[0], bias=positive_boundary[1])\n",
    "    plot_line(ax, 'yellow', negative_boundary[0], bias=negative_boundary[1])\n",
    "    ax.scatter(positive_vectors[:, 0], positive_vectors[:, 1], s=80, facecolors='none', edgecolors='pink')\n",
    "    ax.scatter(negative_vectors[:, 0], negative_vectors[:, 1], s=80, facecolors='none', edgecolors='y')\n",
    "    plt.savefig(os.path.join(img_folder, 'Q2_c.png'))"
   ]
  },
  {
   "cell_type": "markdown",
   "id": "c80e6fed",
   "metadata": {},
   "source": [
    "### Dual SVM and Cross Validation\n",
    "<font size=\"3\"> In some cases, rather than the feature vectors we only have pairwise distances/similarities of the samples. We will explore kernel transformation and dual SVM in the following section.\n",
    "In this section we use the wine data from [link](https://scikit-learn.org/stable/modules/generated/sklearn.datasets.load_wine.html) and only keep two classes. </font>"
   ]
  },
  {
   "cell_type": "markdown",
   "id": "f865fe50",
   "metadata": {},
   "source": [
    "#### Kernel Functions\n",
    "<font size='3'> kernel transformation: the pairwise relations between samples are more obvious after certain kernel transformation is applied. For this question, you need to implement the RBF kernel function ($\\mathcal{K}(x, y) = exp(-\\gamma||x-y||^2) $). Finish implementing the method 'get\\_affinity\\_matrix' in `q2.py`. </font>"
   ]
  },
  {
   "cell_type": "code",
   "execution_count": null,
   "id": "97b38529",
   "metadata": {
    "scrolled": true
   },
   "outputs": [],
   "source": [
    "from q2 import get_affinity_matrix\n",
    "from utils import plot_affinities\n",
    "\n",
    "wine_data = np.load('datasets/wine.npz')\n",
    "wine_x = wine_data['x']\n",
    "wine_y = wine_data['y']\n",
    "transformed_basic = get_affinity_matrix(wine_x, method='product')\n",
    "transformed_rbf = get_affinity_matrix(wine_x, method='rbf', gamma=1e-5)\n",
    "fig, axs = plt.subplots(1, 2, figsize=(10, 4))\n",
    "plot_affinities(axs[0], transformed_basic, wine_y, title='dot product')\n",
    "plot_affinities(axs[1], transformed_rbf, wine_y, title='rbf kernel')\n",
    "plt.savefig(os.path.join(img_folder, 'Q2_d.png'))"
   ]
  },
  {
   "cell_type": "markdown",
   "id": "a02c28f0",
   "metadata": {},
   "source": [
    "<font size=\"3\">Now implement the dual method and test it on the rbf embeddings. You should expect the best average test accuracy above 90% </font>"
   ]
  },
  {
   "cell_type": "code",
   "execution_count": null,
   "id": "a3860ce8",
   "metadata": {},
   "outputs": [],
   "source": [
    "from q2 import solve_SVM_dual\n",
    "\n",
    "regularizations = [1, 5, 10]\n",
    "for regularization in regularizations:\n",
    "    print(f\"==========start the experiment on C={regularization}==========\")\n",
    "    solve_SVM_dual(transformed_rbf, wine_y, regularization=regularization, folds=5)"
   ]
  },
  {
   "cell_type": "code",
   "execution_count": null,
   "id": "e47428e2",
   "metadata": {},
   "outputs": [],
   "source": []
  }
 ],
 "metadata": {
  "kernelspec": {
   "display_name": "Python 3 (ipykernel)",
   "language": "python",
   "name": "python3"
  },
  "language_info": {
   "codemirror_mode": {
    "name": "ipython",
    "version": 3
   },
   "file_extension": ".py",
   "mimetype": "text/x-python",
   "name": "python",
   "nbconvert_exporter": "python",
   "pygments_lexer": "ipython3",
   "version": "3.9.6"
  }
 },
 "nbformat": 4,
 "nbformat_minor": 5
}
